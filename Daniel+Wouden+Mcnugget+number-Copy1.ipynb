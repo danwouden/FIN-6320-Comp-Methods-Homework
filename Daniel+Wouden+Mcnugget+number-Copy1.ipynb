{
 "cells": [
  {
   "cell_type": "code",
   "execution_count": 1,
   "metadata": {
    "collapsed": false
   },
   "outputs": [
    {
     "name": "stdout",
     "output_type": "stream",
     "text": [
      "The largest number of nuggets that you can't buy is: 43\n"
     ]
    }
   ],
   "source": [
    "def what_is_mcnugget_number(num, a = 6, b = 9, c = 20):\n",
    "    for i in range(num//a + 1):\n",
    "        for j in range(num//b + 1):\n",
    "            for k in range(num//c + 1):\n",
    "                if (a*i + b*j + c*k == num):\n",
    "                    return True\n",
    "                    \n",
    "    return False\n",
    "\n",
    "def main():\n",
    "    candidate = 6\n",
    "    biggest = 0\n",
    "    counter = 0\n",
    "    six = 6\n",
    "\n",
    "    while(counter < six):\n",
    "        if(what_is_mcnugget_number(candidate)):\n",
    "            counter += 1\n",
    "        else:\n",
    "            biggest = candidate\n",
    "            counter = 0\n",
    "        candidate += 1\n",
    "\n",
    "    print(\"The largest number of nuggets that you can't buy is: {}\".format(biggest))\n",
    "                \n",
    "# call main\n",
    "main()\n",
    "\n",
    "#if_name_== \"_main_\":\n",
    "#   main()\n"
   ]
  },
  {
   "cell_type": "code",
   "execution_count": 4,
   "metadata": {
    "collapsed": false
   },
   "outputs": [
    {
     "name": "stdout",
     "output_type": "stream",
     "text": [
      "The L.C.M. of 6 and 20 is 60\n"
     ]
    }
   ],
   "source": [
    "# Find the L.C.M. of two numbers\n",
    "\n",
    "def lcm(x, y):\n",
    "\n",
    "   # choose the greater number\n",
    "   if x > y:\n",
    "       greater = x\n",
    "   else:\n",
    "       greater = y\n",
    "\n",
    "   while(True):\n",
    "       if((greater % x == 0) and (greater % y == 0)):\n",
    "           lcm = greater\n",
    "           break\n",
    "       greater += 1\n",
    "\n",
    "   return lcm\n",
    "\n",
    "num1 = 6\n",
    "num2 = 20\n",
    "\n",
    "print(\"The L.C.M. of\", num1,\"and\", num2,\"is\", lcm(num1, num2))"
   ]
  },
  {
   "cell_type": "code",
   "execution_count": 1,
   "metadata": {
    "collapsed": false
   },
   "outputs": [
    {
     "name": "stdout",
     "output_type": "stream",
     "text": [
      "The largest number of McNuggets you cannot get with  6 and 9 and 20 is 43\n"
     ]
    }
   ],
   "source": [
    "\n",
    "def lcm(a,b):\n",
    "   \n",
    "   if a > b:\n",
    "       greater = a\n",
    "   else:\n",
    "       greater = b\n",
    "\n",
    "   while(True):\n",
    "       if((greater % a == 0) and (greater % b == 0)):\n",
    "           lcm = greater\n",
    "           break\n",
    "       greater += 1\n",
    "\n",
    "   return lcm\n",
    "\n",
    "num1 = 6\n",
    "num2 = 9\n",
    "\n",
    "\n",
    "def slcm(a, c):\n",
    "\n",
    "   if a > c:\n",
    "       greater = a\n",
    "   else:\n",
    "       greater = c\n",
    "\n",
    "   while(True):\n",
    "       if((greater % a == 0) and (greater % c == 0)):\n",
    "           slcm = greater\n",
    "           break\n",
    "       greater += 1\n",
    "\n",
    "   return slcm\n",
    "\n",
    "num3 = 20\n",
    "\n",
    "def fun(a, b, c):\n",
    "    answer = (lcm(a, b)+slcm(a, c))-(a+b+c)\n",
    "    return answer\n",
    "answer = fun(num1, num2, num3)\n",
    "\n",
    "print(\"The largest number of McNuggets you cannot get with \", num1,\"and\", num2, \"and\", num3, \"is\", answer)\n",
    "\n"
   ]
  },
  {
   "cell_type": "code",
   "execution_count": 11,
   "metadata": {
    "collapsed": true
   },
   "outputs": [],
   "source": []
  },
  {
   "cell_type": "code",
   "execution_count": null,
   "metadata": {
    "collapsed": true
   },
   "outputs": [],
   "source": []
  }
 ],
 "metadata": {
  "anaconda-cloud": {},
  "kernelspec": {
   "display_name": "Python [default]",
   "language": "python",
   "name": "python3"
  },
  "language_info": {
   "codemirror_mode": {
    "name": "ipython",
    "version": 3
   },
   "file_extension": ".py",
   "mimetype": "text/x-python",
   "name": "python",
   "nbconvert_exporter": "python",
   "pygments_lexer": "ipython3",
   "version": "3.5.2"
  }
 },
 "nbformat": 4,
 "nbformat_minor": 0
}
