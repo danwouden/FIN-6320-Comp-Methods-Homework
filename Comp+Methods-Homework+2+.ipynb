{
 "cells": [
  {
   "cell_type": "code",
   "execution_count": 10,
   "metadata": {
    "collapsed": false
   },
   "outputs": [
    {
     "name": "stdout",
     "output_type": "stream",
     "text": [
      "Out of 100 flips, 53 were heads and 47 were tails.\n"
     ]
    }
   ],
   "source": [
    "#Finance 6320 - Spring 2017\n",
    "#Homework 2\n",
    "#DUE: Some Future Date (TBA)\n",
    "#Programming Challenges\n",
    "#1. Write a program that simulates flipping a coin 100 times and then tells you the number of heads and tails. Use the simple builtin random number generator.\n",
    "\n",
    "import random\n",
    "heads, tails, flipped = 0, 0, 0\n",
    "timesflipped = 0  \n",
    "while timesflipped < 100:\n",
    "    coin_flips = random.randrange( 2 )\n",
    "    if coin_flips == 0:\n",
    "        heads += 1\n",
    "    else:\n",
    "        tails += 1\n",
    "    timesflipped += 1\n",
    "\n",
    "print (\"Out of 100 flips, \" + str(heads) + \" were heads and \" + str(tails) + \" were tails.\")"
   ]
  },
  {
   "cell_type": "code",
   "execution_count": 5,
   "metadata": {
    "collapsed": false
   },
   "outputs": [
    {
     "name": "stdout",
     "output_type": "stream",
     "text": [
      "May the force be with you!\n"
     ]
    }
   ],
   "source": [
    "#2. Write a program that simulates a fortune cookie. The program should display one of five unique fortunes, at random, each time it's run.\n",
    "import random\n",
    "\n",
    "fortune_1= \"May the force be with you!\"\n",
    "fortune_2=\"These things are hardly ever accurate...\"\n",
    "fortune_3=\"I see many buying out of the money put options in the near future...\"\n",
    "fortune_4=\"The early bird gets the worm but, the second mouse gets the cheese\"\n",
    "fortune_5=\"Don't purse happiness-create it\"\n",
    "\n",
    "fortunes = [fortune_1, fortune_2, fortune_3, fortune_4, fortune_5]\n",
    "\n",
    "print (random.choice(fortunes))"
   ]
  },
  {
   "cell_type": "code",
   "execution_count": 4,
   "metadata": {
    "collapsed": false
   },
   "outputs": [
    {
     "name": "stdout",
     "output_type": "stream",
     "text": [
      "Let me count for you since you are to lazy to do it yourself!\n",
      "Please Enter The Starting Number: \n",
      "5\n",
      "Please Enter The Ending Number: \n",
      "100\n",
      "Please Enter The Amount By Which To Count: \n",
      "5\n",
      "Counting...:\n",
      "5\n",
      "10\n",
      "15\n",
      "20\n",
      "25\n",
      "30\n",
      "35\n",
      "40\n",
      "45\n",
      "50\n",
      "55\n",
      "60\n",
      "65\n",
      "70\n",
      "75\n",
      "80\n",
      "85\n",
      "90\n",
      "95\n"
     ]
    }
   ],
   "source": [
    "#3. Write a program that counts for the user. Let the user enter the starting number, the ending number, and the amount by which to count.\n",
    "\n",
    "print (\"Let me count for you since you are to lazy to do it yourself!\")\n",
    "\n",
    "start = int(input (\"Please Enter The Starting Number: \\n\"))\n",
    "end = int(input (\"Please Enter The Ending Number: \\n\"))\n",
    "amount = int(input (\"Please Enter The Amount By Which To Count: \\n\"))\n",
    "\n",
    "print (\"Counting...\")\n",
    "for i in range(start, end, amount):\n",
    "    print (i)"
   ]
  },
  {
   "cell_type": "code",
   "execution_count": 17,
   "metadata": {
    "collapsed": false
   },
   "outputs": [
    {
     "name": "stdout",
     "output_type": "stream",
     "text": [
      "Let me print your message backwards for you\n",
      "Please Enter Your Message:your mom sucks\n",
      "Your message backasswards is skcus mom ruoy\n"
     ]
    }
   ],
   "source": [
    "#4. Create a program that gets a message from the user and then prints it out backwards.\n",
    "print (\"Let me print your message backwards for you\")\n",
    "\n",
    "Message = input(\"Please Enter Your Message:\")\n",
    "                     \n",
    "print (\"Your message backasswards is\", Message[::-1])"
   ]
  },
  {
   "cell_type": "code",
   "execution_count": 16,
   "metadata": {
    "collapsed": false
   },
   "outputs": [
    {
     "name": "stdout",
     "output_type": "stream",
     "text": [
      "Let's play a game! I will pick a random fruit and you have to guess the name. I will tell you how many letters are in the name then you'll have 5 chances to ask if a letter is in the word and guess the word!\n",
      "Amount of letters in the Fruit's name: 4\n",
      "Attempts left: 5\n",
      "\n",
      "Enter your guess, or a letter: a\n",
      "Yes, 'a' appears in the answer\n",
      "\n",
      "Enter your guess, or a letter: apple\n",
      "Yes, 'a' appears in the answer\n",
      "\n",
      "Enter your guess, or a letter: p\n",
      "Yes, 'p' appears in the answer\n",
      "\n",
      "Enter your guess, or a letter: p\n",
      "Yes, 'p' appears in the answer\n",
      "\n",
      "Enter your guess, or a letter: l\n",
      "No, 'l' does not appear in the answer\n",
      "\n",
      "You ran out of maximumum tries!\n",
      "\n",
      "The answer was papaya\n"
     ]
    }
   ],
   "source": [
    "#5. Create a game where the computer picks a random word and the player has to guess that word. The computer tells the player how many letters are in the word. Then the player gets five chances to ask if a letter is in the word. The computer can only respond with \"yes\" or \"no\". Then, the player must guess the word. (Hint: keep it simple at first. Solve the hardest part first, and then add more detail. For example, start with a very simple list of words, which can be improve latter.)\n",
    "print (\"Let's play a game! I will pick a random fruit and you have to guess the name. I will tell you how many letters are in the name then you'll have 5 chances to ask if a letter is in the word and guess the word!\")\n",
    "\n",
    "import random\n",
    "\n",
    "FRUITS = (\"apple\", \"banana\", \"orange\", \"mango\", \"clementine\", \"strawberry\", \"grape\" , \"peach\" , \"cherry\" ,\"pineapple\" ,\"pear\" ,\"grapefruit\" ,\"kiwi\", \"watermelon\" ,\"lemon\" , \"apricot\" ,\"fig\" , \"papaya\", \"cantaloupe\" , \"blackberry\" ,\"blueberry\" ,\"rasberry\" ,\"pomegranate\" )\n",
    "\n",
    "fruit = random.choice(FRUITS)\n",
    "correct_answer = fruit\n",
    "max_guesses = 5\n",
    "\n",
    "print(\"Amount of letters in the Fruit's name:\", len(word))\n",
    "print(\"Attempts left:\", max_guesses)\n",
    "\n",
    "\n",
    "for guesses in range(max_guesses):\n",
    "    guess = input(\"\\nEnter your guess, or a letter: \")\n",
    "    if guess == correct_answer:\n",
    "        print(\"Yay! '%s' is the correct answer.\\n\" % guess)\n",
    "        break\n",
    "    elif guess != \"\":\n",
    "        if guess[0] in correct_answer:\n",
    "            print(\"Yes, '%s' appears in the answer\" % guess[0])\n",
    "        else:\n",
    "            print(\"No, '%s' does not appear in the answer\" % guess[0])\n",
    "else:\n",
    "    print(\"\\nYou ran out of maximumum tries!\\n\")\n",
    "    print(\"The answer was\", fruit)"
   ]
  },
  {
   "cell_type": "code",
   "execution_count": 15,
   "metadata": {
    "collapsed": false
   },
   "outputs": [
    {
     "name": "stdout",
     "output_type": "stream",
     "text": [
      "five\n",
      "six\n",
      "one\n",
      "two\n",
      "three\n",
      "four\n"
     ]
    }
   ],
   "source": [
    "#6. Create a program that prints a list of words in random order. The program should print all the words and not repeat any.\n",
    "import random\n",
    "words = [\"one\", \"two\", \"three\", \"four\", \"five\", \"six\"]\n",
    "randwords = []\n",
    "while words: \n",
    "    wordslen = len(words)\n",
    "    index = random.randint(0, wordslen -1) \n",
    "    chosenword = words[index]\n",
    "    randwords.append(chosenword) \n",
    "    del words[index] \n",
    "\n",
    "for word in randwords:\n",
    "    print (word) \n"
   ]
  },
  {
   "cell_type": "code",
   "execution_count": null,
   "metadata": {
    "collapsed": true
   },
   "outputs": [],
   "source": []
  }
 ],
 "metadata": {
  "anaconda-cloud": {},
  "kernelspec": {
   "display_name": "Python [default]",
   "language": "python",
   "name": "python3"
  },
  "language_info": {
   "codemirror_mode": {
    "name": "ipython",
    "version": 3
   },
   "file_extension": ".py",
   "mimetype": "text/x-python",
   "name": "python",
   "nbconvert_exporter": "python",
   "pygments_lexer": "ipython3",
   "version": "3.5.2"
  }
 },
 "nbformat": 4,
 "nbformat_minor": 1
}
