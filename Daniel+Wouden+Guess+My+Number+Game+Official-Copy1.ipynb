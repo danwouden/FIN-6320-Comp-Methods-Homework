{
 "cells": [
  {
   "cell_type": "code",
   "execution_count": 1,
   "metadata": {
    "collapsed": false
   },
   "outputs": [
    {
     "name": "stdout",
     "output_type": "stream",
     "text": [
      "\t Want to play a game? I bet I can guess your number in 7 or fewer tries!\n",
      "\t Let's start, think of a number between 0 and 100.\n",
      "\t I'll guess your number in as few attempts as possible.\n",
      "\t Now, is your number Higher, Equal, or Lower than 50?\n",
      "\n",
      "Higher, Equal, or Lower than?Higher\n",
      "\t Is your number Higher or Lower than 75 ?\n",
      "Higher, Equal, or Lower than?Higher\n",
      "\t Is your number Higher or Lower than 88 ?\n",
      "Higher, Equal, or Lower than?Higher\n",
      "\t Is your number Higher or Lower than 94 ?\n",
      "Higher, Equal, or Lower than?Higher\n",
      "\t Is your number Higher or Lower than 97 ?\n",
      "Higher, Equal, or Lower than?Higher\n",
      "\t Is your number Higher or Lower than 99 ?\n",
      "Higher, Equal, or Lower than?Equal\n",
      "\t I got it! Your number is 99 !\n",
      "\t And it only took me 6 tries!\n",
      "\n"
     ]
    }
   ],
   "source": [
    "def print_header():\n",
    "    print(\"\\t Want to play a game? I bet I can guess your number in 7 or fewer tries!\")\n",
    "    print(\"\\t Let's start, think of a number between 0 and 100.\")\n",
    "    print(\"\\t I'll guess your number in as few attempts as possible.\")\n",
    "    print(\"\\t Now, is your number Higher, Equal, or Lower than 50?\\n\")\n",
    "    \n",
    "def print_input(next_guess):\n",
    "    print(\"\\t Is your number Higher or Lower than\", next_guess,\"?\")\n",
    "    \n",
    "def print_footer(next_guess, tries):\n",
    "    print(\"\\t I got it! Your number is\", next_guess, \"!\")\n",
    "    print(\"\\t And it only took me\", tries, \"tries!\\n\")\n",
    "\n",
    "def main():\n",
    "    print_header()\n",
    "#define variables\n",
    "    direction = input(\"Higher, Equal, or Lower than?\")\n",
    "    tries = 1\n",
    "    next_guess = 50\n",
    "    Upper_Bound = 101\n",
    "    Lower_Bound = 0\n",
    "#game loop\n",
    "    while(direction != 'Equal'):\n",
    "        if(direction == 'Higher'):\n",
    "            Lower_Bound = next_guess\n",
    "            next_guess = (((Upper_Bound - next_guess)//2)+next_guess)\n",
    "            print_input(next_guess)\n",
    "            direction = input(\"Higher, Equal, or Lower than?\")\n",
    "        elif(direction == 'Lower'):\n",
    "            Upper_Bound = next_guess\n",
    "            next_guess = (((next_guess - Lower_Bound) //2)+Lower_Bound)\n",
    "            print_input(next_guess)\n",
    "            direction = input(\"Higher, Equal, or Lower than?\")\n",
    "        else:\n",
    "            next_guess\n",
    "        tries += 1\n",
    "    print_footer(next_guess, tries)    \n",
    "      \n",
    "if __name__ == \"__main__\":\n",
    "    main()\n",
    "    "
   ]
  },
  {
   "cell_type": "code",
   "execution_count": null,
   "metadata": {
    "collapsed": true
   },
   "outputs": [],
   "source": []
  }
 ],
 "metadata": {
  "anaconda-cloud": {},
  "kernelspec": {
   "display_name": "Python [default]",
   "language": "python",
   "name": "python3"
  },
  "language_info": {
   "codemirror_mode": {
    "name": "ipython",
    "version": 3
   },
   "file_extension": ".py",
   "mimetype": "text/x-python",
   "name": "python",
   "nbconvert_exporter": "python",
   "pygments_lexer": "ipython3",
   "version": "3.5.2"
  }
 },
 "nbformat": 4,
 "nbformat_minor": 0
}
